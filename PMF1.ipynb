{
  "nbformat": 4,
  "nbformat_minor": 0,
  "metadata": {
    "colab": {
      "name": "PMF1.ipynb",
      "provenance": [],
      "authorship_tag": "ABX9TyP8CYfPMv82gnU0977AR9O5",
      "include_colab_link": true
    },
    "kernelspec": {
      "name": "python3",
      "display_name": "Python 3"
    }
  },
  "cells": [
    {
      "cell_type": "markdown",
      "metadata": {
        "id": "view-in-github",
        "colab_type": "text"
      },
      "source": [
        "<a href=\"https://colab.research.google.com/github/niharika901/BigData/blob/main/PMF1.ipynb\" target=\"_parent\"><img src=\"https://colab.research.google.com/assets/colab-badge.svg\" alt=\"Open In Colab\"/></a>"
      ]
    },
    {
      "cell_type": "code",
      "metadata": {
        "id": "67N-kMJoCyXJ",
        "outputId": "f0455303-a788-4f36-d22b-b9f0f020b587",
        "colab": {
          "base_uri": "https://localhost:8080/"
        }
      },
      "source": [
        "!pip install scikit-surprise"
      ],
      "execution_count": 1,
      "outputs": [
        {
          "output_type": "stream",
          "text": [
            "Collecting scikit-surprise\n",
            "\u001b[?25l  Downloading https://files.pythonhosted.org/packages/97/37/5d334adaf5ddd65da99fc65f6507e0e4599d092ba048f4302fe8775619e8/scikit-surprise-1.1.1.tar.gz (11.8MB)\n",
            "\u001b[K     |████████████████████████████████| 11.8MB 1.5MB/s \n",
            "\u001b[?25hRequirement already satisfied: joblib>=0.11 in /usr/local/lib/python3.6/dist-packages (from scikit-surprise) (0.17.0)\n",
            "Requirement already satisfied: numpy>=1.11.2 in /usr/local/lib/python3.6/dist-packages (from scikit-surprise) (1.18.5)\n",
            "Requirement already satisfied: scipy>=1.0.0 in /usr/local/lib/python3.6/dist-packages (from scikit-surprise) (1.4.1)\n",
            "Requirement already satisfied: six>=1.10.0 in /usr/local/lib/python3.6/dist-packages (from scikit-surprise) (1.15.0)\n",
            "Building wheels for collected packages: scikit-surprise\n",
            "  Building wheel for scikit-surprise (setup.py) ... \u001b[?25l\u001b[?25hdone\n",
            "  Created wheel for scikit-surprise: filename=scikit_surprise-1.1.1-cp36-cp36m-linux_x86_64.whl size=1670913 sha256=e08fe1509b5bb930bbd78d75ea28e5dfeaf9085080a2157f85660857423df2a5\n",
            "  Stored in directory: /root/.cache/pip/wheels/78/9c/3d/41b419c9d2aff5b6e2b4c0fc8d25c538202834058f9ed110d0\n",
            "Successfully built scikit-surprise\n",
            "Installing collected packages: scikit-surprise\n",
            "Successfully installed scikit-surprise-1.1.1\n"
          ],
          "name": "stdout"
        }
      ]
    },
    {
      "cell_type": "code",
      "metadata": {
        "id": "8j9i23bVDOAj"
      },
      "source": [
        "from surprise import SVD\n",
        "from surprise import Dataset, Reader\n",
        "from surprise import accuracy\n",
        "from surprise.model_selection.split import train_test_split\n",
        "import pandas as pd "
      ],
      "execution_count": 2,
      "outputs": []
    },
    {
      "cell_type": "code",
      "metadata": {
        "id": "jS1DtR-UD_Uf"
      },
      "source": [
        "df = pd.read_csv(\"/content/u_data.csv\")\n",
        "df.drop('timestamp',axis=1,inplace=True)\n",
        "# filter_movies = df['item id'].value_counts()>3\n",
        "# filter_movies = filter_movies[filter_movies].index.tolist()\n",
        "# filter_users = df['user_id'].value_counts()>3\n",
        "# filter_users = filter_users[filter_users].index.tolist()\n",
        "# df = df[(df['item id'].isin(filter_movies)) & (df['user_id'].isin(filter_users))]"
      ],
      "execution_count": 3,
      "outputs": []
    },
    {
      "cell_type": "code",
      "metadata": {
        "id": "jJcLKyBZEV5-"
      },
      "source": [
        "cols = ['item id','user_id','rating']\n",
        "reader = Reader(rating_scale=(1,5))\n",
        "data = Dataset.load_from_df(df[cols],reader)\n",
        "trainset,testset = train_test_split(data, test_size=0.2, train_size=None, random_state=None, shuffle=True)"
      ],
      "execution_count": 4,
      "outputs": []
    },
    {
      "cell_type": "code",
      "metadata": {
        "id": "PTVoJGMFFCNo"
      },
      "source": [
        "def avg_per_item_mse(predictions):\n",
        "  pdf = pd.DataFrame(predictions)\n",
        "  pdf['Squarederror'] = (pdf['r_ui']-pdf['est'])**2\n",
        "  pdf.drop(['uid','details','r_ui','est'],axis=1,inplace=True)\n",
        "  item_mse=pdf.groupby(['iid']).mean()\n",
        "  return item_mse['Squarederror'].mean() \n"
      ],
      "execution_count": 6,
      "outputs": []
    },
    {
      "cell_type": "code",
      "metadata": {
        "id": "PP5K_eyEE6jg",
        "outputId": "ba366fd5-2dd0-4641-acef-75c1d8e2efb0",
        "colab": {
          "base_uri": "https://localhost:8080/"
        }
      },
      "source": [
        "algo = SVD()\n",
        "algo.fit(trainset)\n",
        "predictions = algo.test(testset)\n",
        "accuracy.mse(predictions)"
      ],
      "execution_count": 5,
      "outputs": [
        {
          "output_type": "stream",
          "text": [
            "MSE: 0.8698\n"
          ],
          "name": "stdout"
        },
        {
          "output_type": "execute_result",
          "data": {
            "text/plain": [
              "0.8698234620657347"
            ]
          },
          "metadata": {
            "tags": []
          },
          "execution_count": 5
        }
      ]
    },
    {
      "cell_type": "code",
      "metadata": {
        "id": "89JUACNZG5zP",
        "outputId": "27edee27-df87-4dae-f866-191d34aa2d49",
        "colab": {
          "base_uri": "https://localhost:8080/"
        }
      },
      "source": [
        "avgPerItem_MSE = avg_per_item_mse(predictions)\n",
        "print(avgPerItem_MSE)"
      ],
      "execution_count": 8,
      "outputs": [
        {
          "output_type": "stream",
          "text": [
            "0.9391766383395092\n"
          ],
          "name": "stdout"
        }
      ]
    }
  ]
}