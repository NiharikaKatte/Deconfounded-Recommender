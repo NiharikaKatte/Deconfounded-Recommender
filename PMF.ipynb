{
  "nbformat": 4,
  "nbformat_minor": 0,
  "metadata": {
    "colab": {
      "name": "PMF.ipynb",
      "provenance": [],
      "collapsed_sections": [],
      "authorship_tag": "ABX9TyMYiQBkug6VpjWaBL8V4hAR",
      "include_colab_link": true
    },
    "kernelspec": {
      "name": "python3",
      "display_name": "Python 3"
    }
  },
  "cells": [
    {
      "cell_type": "markdown",
      "metadata": {
        "id": "view-in-github",
        "colab_type": "text"
      },
      "source": [
        "<a href=\"https://colab.research.google.com/github/niharika901/BigData/blob/main/PMF.ipynb\" target=\"_parent\"><img src=\"https://colab.research.google.com/assets/colab-badge.svg\" alt=\"Open In Colab\"/></a>"
      ]
    },
    {
      "cell_type": "markdown",
      "metadata": {
        "id": "2t0QSccjrBQy"
      },
      "source": [
        "\n",
        "**Installing scikit-surprise**\n",
        "\n",
        "Surprise is a Python scikit for building and analyzing recommender systems that deal with explicit rating data.\n",
        "\n"
      ]
    },
    {
      "cell_type": "code",
      "metadata": {
        "id": "q98DtevOql9L",
        "outputId": "da24dacc-6976-41cd-b9b4-7e5f696b9db2",
        "colab": {
          "base_uri": "https://localhost:8080/"
        }
      },
      "source": [
        "!pip install scikit-surprise"
      ],
      "execution_count": 1,
      "outputs": [
        {
          "output_type": "stream",
          "text": [
            "Collecting scikit-surprise\n",
            "\u001b[?25l  Downloading https://files.pythonhosted.org/packages/97/37/5d334adaf5ddd65da99fc65f6507e0e4599d092ba048f4302fe8775619e8/scikit-surprise-1.1.1.tar.gz (11.8MB)\n",
            "\u001b[K     |████████████████████████████████| 11.8MB 4.9MB/s \n",
            "\u001b[?25hRequirement already satisfied: joblib>=0.11 in /usr/local/lib/python3.6/dist-packages (from scikit-surprise) (0.17.0)\n",
            "Requirement already satisfied: numpy>=1.11.2 in /usr/local/lib/python3.6/dist-packages (from scikit-surprise) (1.18.5)\n",
            "Requirement already satisfied: scipy>=1.0.0 in /usr/local/lib/python3.6/dist-packages (from scikit-surprise) (1.4.1)\n",
            "Requirement already satisfied: six>=1.10.0 in /usr/local/lib/python3.6/dist-packages (from scikit-surprise) (1.15.0)\n",
            "Building wheels for collected packages: scikit-surprise\n",
            "  Building wheel for scikit-surprise (setup.py) ... \u001b[?25l\u001b[?25hdone\n",
            "  Created wheel for scikit-surprise: filename=scikit_surprise-1.1.1-cp36-cp36m-linux_x86_64.whl size=1670890 sha256=3c4e3ec1212128a5c4f53b10dec61596fbde7ea0c13577c8e89bbefadbf5ea16\n",
            "  Stored in directory: /root/.cache/pip/wheels/78/9c/3d/41b419c9d2aff5b6e2b4c0fc8d25c538202834058f9ed110d0\n",
            "Successfully built scikit-surprise\n",
            "Installing collected packages: scikit-surprise\n",
            "Successfully installed scikit-surprise-1.1.1\n"
          ],
          "name": "stdout"
        }
      ]
    },
    {
      "cell_type": "code",
      "metadata": {
        "id": "YcbB65Zdq4Fu"
      },
      "source": [
        "from surprise import SVD\n",
        "from surprise import Dataset, Reader\n",
        "from surprise import accuracy\n",
        "from surprise.model_selection.split import train_test_split\n",
        "import pandas as pd \n",
        "import random  "
      ],
      "execution_count": 2,
      "outputs": []
    },
    {
      "cell_type": "markdown",
      "metadata": {
        "id": "i4QbJAWNr2gm"
      },
      "source": [
        "Reading 100k and 1M data into dataframe from csv  "
      ]
    },
    {
      "cell_type": "code",
      "metadata": {
        "id": "PzcWwwmDr2wQ"
      },
      "source": [
        "df_100k = pd.read_csv(\"/content/u_data.csv\")\n",
        "df_100k.drop('timestamp',axis=1,inplace=True)\n",
        "df_1M = pd.read_csv(\"/content/1m_user_data.csv\")"
      ],
      "execution_count": 5,
      "outputs": []
    },
    {
      "cell_type": "code",
      "metadata": {
        "id": "EoDjQIWvutwB",
        "outputId": "e737b8d8-1c66-49f6-9581-5e408591a24c",
        "colab": {
          "base_uri": "https://localhost:8080/",
          "height": 195
        }
      },
      "source": [
        "df_1M.head()"
      ],
      "execution_count": 7,
      "outputs": [
        {
          "output_type": "execute_result",
          "data": {
            "text/html": [
              "<div>\n",
              "<style scoped>\n",
              "    .dataframe tbody tr th:only-of-type {\n",
              "        vertical-align: middle;\n",
              "    }\n",
              "\n",
              "    .dataframe tbody tr th {\n",
              "        vertical-align: top;\n",
              "    }\n",
              "\n",
              "    .dataframe thead th {\n",
              "        text-align: right;\n",
              "    }\n",
              "</style>\n",
              "<table border=\"1\" class=\"dataframe\">\n",
              "  <thead>\n",
              "    <tr style=\"text-align: right;\">\n",
              "      <th></th>\n",
              "      <th>user_id</th>\n",
              "      <th>movie_id</th>\n",
              "      <th>rating</th>\n",
              "    </tr>\n",
              "  </thead>\n",
              "  <tbody>\n",
              "    <tr>\n",
              "      <th>0</th>\n",
              "      <td>1</td>\n",
              "      <td>1193</td>\n",
              "      <td>5</td>\n",
              "    </tr>\n",
              "    <tr>\n",
              "      <th>1</th>\n",
              "      <td>1</td>\n",
              "      <td>661</td>\n",
              "      <td>3</td>\n",
              "    </tr>\n",
              "    <tr>\n",
              "      <th>2</th>\n",
              "      <td>1</td>\n",
              "      <td>914</td>\n",
              "      <td>3</td>\n",
              "    </tr>\n",
              "    <tr>\n",
              "      <th>3</th>\n",
              "      <td>1</td>\n",
              "      <td>3408</td>\n",
              "      <td>4</td>\n",
              "    </tr>\n",
              "    <tr>\n",
              "      <th>4</th>\n",
              "      <td>1</td>\n",
              "      <td>2355</td>\n",
              "      <td>5</td>\n",
              "    </tr>\n",
              "  </tbody>\n",
              "</table>\n",
              "</div>"
            ],
            "text/plain": [
              "   user_id  movie_id  rating\n",
              "0        1      1193       5\n",
              "1        1       661       3\n",
              "2        1       914       3\n",
              "3        1      3408       4\n",
              "4        1      2355       5"
            ]
          },
          "metadata": {
            "tags": []
          },
          "execution_count": 7
        }
      ]
    },
    {
      "cell_type": "markdown",
      "metadata": {
        "id": "ilHqiGw-tIZE"
      },
      "source": [
        "Creating Train and Test datasets(70/30 split) for 100k and 1M data\n"
      ]
    },
    {
      "cell_type": "code",
      "metadata": {
        "id": "1Vt2Uph-tIm5"
      },
      "source": [
        "reader = Reader(rating_scale=(1,5))\n",
        "data_100k = Dataset.load_from_df(df_100k,reader)\n",
        "data_1M = Dataset.load_from_df(df_1M,reader)\n",
        "trainset_100k,testset_100k = train_test_split(data_100k, test_size=0.3, train_size=None, random_state=None, shuffle=True)\n",
        "trainset_1M,testset_1M = train_test_split(data_1M, test_size=0.3, train_size=None, random_state=None, shuffle=True)"
      ],
      "execution_count": 8,
      "outputs": []
    },
    {
      "cell_type": "markdown",
      "metadata": {
        "id": "t5XRq41JvpDk"
      },
      "source": [
        "Defining Average Per item MSE function"
      ]
    },
    {
      "cell_type": "code",
      "metadata": {
        "id": "NWfjIhqHvptW"
      },
      "source": [
        "def avg_per_item_mse(predictions):\n",
        "  pdf = pd.DataFrame(predictions)\n",
        "  pdf['Squarederror'] = (pdf['r_ui']-pdf['est'])**2\n",
        "  pdf.drop(['uid','details','r_ui','est'],axis=1,inplace=True)\n",
        "  item_mse=pdf.groupby(['iid']).mean()\n",
        "  return item_mse['Squarederror'].mean() "
      ],
      "execution_count": 9,
      "outputs": []
    },
    {
      "cell_type": "markdown",
      "metadata": {
        "id": "utO-lOhIwXLf"
      },
      "source": [
        "For Probabilistic Matrix Factorization, Using SVD algorithm without bias factors\n",
        "\n",
        "[Matrix factorization algorithm SVD](https://surprise.readthedocs.io/en/stable/matrix_factorization.html)"
      ]
    },
    {
      "cell_type": "code",
      "metadata": {
        "id": "0kvA4jqswXcK"
      },
      "source": [
        "algo = SVD(biased = False)"
      ],
      "execution_count": 10,
      "outputs": []
    },
    {
      "cell_type": "markdown",
      "metadata": {
        "id": "T-iCaK0KyWkt"
      },
      "source": [
        "Training and testing svd algorithm with 100k data  "
      ]
    },
    {
      "cell_type": "code",
      "metadata": {
        "id": "XLU4wBPUyXDZ",
        "outputId": "45dd7ec3-f9cf-4b87-eea5-46a5803462f6",
        "colab": {
          "base_uri": "https://localhost:8080/"
        }
      },
      "source": [
        "algo.fit(trainset_100k)\n",
        "predictions_100k = algo.test(testset_100k)\n",
        "MSE_100k = avg_per_item_mse(predictions_100k)\n",
        "print(\"Average per item MSE of 100k data:\",MSE_100k) "
      ],
      "execution_count": 11,
      "outputs": [
        {
          "output_type": "stream",
          "text": [
            "Average per item MSE of 100k data: 1.324084273578656\n"
          ],
          "name": "stdout"
        }
      ]
    },
    {
      "cell_type": "markdown",
      "metadata": {
        "id": "9a_UHN-Q0B3A"
      },
      "source": [
        "Training and testing svd algorithm with 1M data  "
      ]
    },
    {
      "cell_type": "code",
      "metadata": {
        "id": "lX2wb7EL0CI7",
        "outputId": "23fc5893-63b7-4240-c1a5-695a6f46a1bb",
        "colab": {
          "base_uri": "https://localhost:8080/"
        }
      },
      "source": [
        "algo.fit(trainset_1M)\n",
        "predictions_1M = algo.test(testset_1M)\n",
        "MSE_1M = avg_per_item_mse(predictions_1M)\n",
        "print(\"Average per item MSE of 1M data:\",MSE_1M) "
      ],
      "execution_count": 13,
      "outputs": [
        {
          "output_type": "stream",
          "text": [
            "Average per item MSE of 1M data: 1.0734020349047144\n"
          ],
          "name": "stdout"
        }
      ]
    }
  ]
}